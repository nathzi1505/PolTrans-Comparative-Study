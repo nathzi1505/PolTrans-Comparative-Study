{
 "cells": [
  {
   "cell_type": "code",
   "execution_count": 1,
   "metadata": {},
   "outputs": [],
   "source": [
    "import pandas as pd\n",
    "import numpy as np\n",
    "\n",
    "import warnings\n",
    "warnings.filterwarnings(\"ignore\")"
   ]
  },
  {
   "cell_type": "code",
   "execution_count": 2,
   "metadata": {},
   "outputs": [],
   "source": [
    "ulaanbaatar_df = pd.read_csv(\"./Data/Mongolia/ulaanbaatar.csv\")"
   ]
  },
  {
   "cell_type": "code",
   "execution_count": 3,
   "metadata": {},
   "outputs": [],
   "source": [
    "station_names = ulaanbaatar_df['location'].unique()"
   ]
  },
  {
   "cell_type": "code",
   "execution_count": 4,
   "metadata": {},
   "outputs": [],
   "source": [
    "def convert_string_to_datetime(dt_string):\n",
    "    dt_string = dt_string.split(\",\")[0][5:]\n",
    "    dt_obj = pd.to_datetime(dt_string)\n",
    "    \n",
    "    return dt_obj"
   ]
  },
  {
   "cell_type": "code",
   "execution_count": 5,
   "metadata": {},
   "outputs": [],
   "source": [
    "stations = []\n",
    "\n",
    "for station_name in station_names:\n",
    "    coordinates = ulaanbaatar_df[ulaanbaatar_df['location'] == station_names[0]].iloc[0]['coordinates']\n",
    "    latitude, longitude = coordinates.split(\", \")\n",
    "    latitude = float(latitude[1:].split(\"=\")[-1])\n",
    "    longitude = float(longitude[:-1].split(\"=\")[-1])\n",
    "    \n",
    "    stations.append([station_name, latitude, longitude])"
   ]
  },
  {
   "cell_type": "code",
   "execution_count": 6,
   "metadata": {},
   "outputs": [],
   "source": [
    "def impute(station_df, column=\"PM2.5\", window_length=24):\n",
    "    try:\n",
    "        for idx, value in enumerate(station_df[column].values):\n",
    "            if np.isnan(value):\n",
    "                station_df[column][idx] = station_df[column][idx - window_length]\n",
    "    except:\n",
    "        pass\n",
    "    return station_df.fillna(station_df.mean())"
   ]
  },
  {
   "cell_type": "code",
   "execution_count": 7,
   "metadata": {},
   "outputs": [],
   "source": [
    "dataset = []\n",
    "\n",
    "for i, (station_name, latitude, longitude) in  enumerate(stations):  \n",
    "    \n",
    "    df = ulaanbaatar_df[(ulaanbaatar_df['location'] == station_name) & (ulaanbaatar_df['parameter'] == \"pm25\")]\n",
    "    \n",
    "    if df.shape[0] == 0:\n",
    "        continue\n",
    "    \n",
    "    df = df[['date', 'value']].reset_index(drop=True)\n",
    "    df['date'] = df['date'].map(lambda x: convert_string_to_datetime(x))\n",
    "    df = df.set_index(['date'])\n",
    "    df.index.names = ['Date']\n",
    "    df.columns = [\"PM2.5\"]\n",
    "    df = df.sort_index()\n",
    "    df = df.resample(\"d\").mean()\n",
    "    df = df.asfreq('D')\n",
    "    df.index = df.index.astype('datetime64[ns]')\n",
    "    \n",
    "    df = impute(df, column=\"PM2.5\", window_length=365)\n",
    "      \n",
    "    city = \"Ulaanbaatar\"\n",
    "    \n",
    "    if ((i == 10) or (i == 6)):\n",
    "        continue\n",
    "    \n",
    "    item = {\n",
    "        \"station_name\": station_name,\n",
    "        \"station_id\": f\"UB{(i+1):03}\", \n",
    "        \"city\": city,\n",
    "        \"latitude\": latitude,\n",
    "        \"longitude\": longitude,\n",
    "        \"df\": df\n",
    "    }\n",
    "    \n",
    "    dataset.append(item)"
   ]
  },
  {
   "cell_type": "code",
   "execution_count": 8,
   "metadata": {},
   "outputs": [],
   "source": [
    "dataset = dataset[:8]"
   ]
  },
  {
   "cell_type": "code",
   "execution_count": 9,
   "metadata": {},
   "outputs": [],
   "source": [
    "import pickle\n",
    "\n",
    "pickle.dump(dataset, open(\"./Data/ulaanbaatar_dataset.pkl\", \"wb\"), protocol=4)"
   ]
  }
 ],
 "metadata": {
  "kernelspec": {
   "display_name": "Python 3",
   "language": "python",
   "name": "python3"
  },
  "language_info": {
   "codemirror_mode": {
    "name": "ipython",
    "version": 3
   },
   "file_extension": ".py",
   "mimetype": "text/x-python",
   "name": "python",
   "nbconvert_exporter": "python",
   "pygments_lexer": "ipython3",
   "version": "3.8.5"
  }
 },
 "nbformat": 4,
 "nbformat_minor": 4
}
