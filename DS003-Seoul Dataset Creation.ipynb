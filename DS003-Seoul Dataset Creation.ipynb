{
 "cells": [
  {
   "cell_type": "code",
   "execution_count": 1,
   "metadata": {},
   "outputs": [],
   "source": [
    "import pandas as pd\n",
    "import numpy as np\n",
    "\n",
    "import warnings\n",
    "warnings.filterwarnings(\"ignore\")"
   ]
  },
  {
   "cell_type": "code",
   "execution_count": 2,
   "metadata": {},
   "outputs": [],
   "source": [
    "seoul_pm25_df = pd.read_csv(\"./Data/Seoul/seoul_summary.csv\")\n",
    "seoul_stations_df = pd.read_csv(\"./Data/Seoul/seoul_station_info.csv\")"
   ]
  },
  {
   "cell_type": "code",
   "execution_count": 3,
   "metadata": {},
   "outputs": [],
   "source": [
    "station_codes = seoul_stations_df['Station code'].unique()"
   ]
  },
  {
   "cell_type": "code",
   "execution_count": 4,
   "metadata": {},
   "outputs": [],
   "source": [
    "dataset = []"
   ]
  },
  {
   "cell_type": "code",
   "execution_count": 5,
   "metadata": {},
   "outputs": [],
   "source": [
    "def impute(station_df, column=\"PM2.5\", window_length=24):\n",
    "    try:\n",
    "        for idx, value in enumerate(station_df[column].values):\n",
    "            if np.isnan(value):\n",
    "                station_df[column][idx] = station_df[column][idx - window_length]\n",
    "    except:\n",
    "        pass\n",
    "    return station_df"
   ]
  },
  {
   "cell_type": "code",
   "execution_count": 6,
   "metadata": {},
   "outputs": [],
   "source": [
    "for station_code in station_codes:\n",
    "    station_name, _, latitude, longitude = seoul_stations_df[seoul_stations_df['Station code'] == station_code].values[0][1:]\n",
    "    \n",
    "    df = seoul_pm25_df[seoul_pm25_df['Station code'] == station_code]\n",
    "    df['Measurement date'] = pd.to_datetime(df['Measurement date'])\n",
    "    df = df.set_index(['Measurement date']).asfreq('H')\n",
    "    df.index.names = ['Date']\n",
    "    df = df[['PM2.5']]\n",
    "    df = df.resample('d').mean()\n",
    "    df = df.asfreq('D')\n",
    "    \n",
    "    df = impute(df, column=\"PM2.5\", window_length=90)\n",
    "    \n",
    "    if(df.values < 0).any():\n",
    "        continue\n",
    "\n",
    "    city = \"Seoul\"\n",
    "\n",
    "    if (station_code == 106) or (station_code == 109) \\\n",
    "        or (station_code == 110) or (station_code == 107):\n",
    "            continue\n",
    "\n",
    "    item = {\n",
    "        \"station_name\": station_name,\n",
    "        \"station_id\": f\"SL{station_code}\", \n",
    "        \"city\": city,\n",
    "        \"latitude\": latitude,\n",
    "        \"longitude\": longitude,\n",
    "        \"df\": df\n",
    "    }\n",
    "\n",
    "    dataset.append(item)"
   ]
  },
  {
   "cell_type": "code",
   "execution_count": 7,
   "metadata": {},
   "outputs": [],
   "source": [
    "dataset = dataset[:8]"
   ]
  },
  {
   "cell_type": "code",
   "execution_count": 8,
   "metadata": {},
   "outputs": [],
   "source": [
    "import pickle\n",
    "\n",
    "pickle.dump(dataset, open(\"./Data/seoul_dataset.pkl\", \"wb\"), protocol=4)"
   ]
  }
 ],
 "metadata": {
  "kernelspec": {
   "display_name": "Python 3",
   "language": "python",
   "name": "python3"
  },
  "language_info": {
   "codemirror_mode": {
    "name": "ipython",
    "version": 3
   },
   "file_extension": ".py",
   "mimetype": "text/x-python",
   "name": "python",
   "nbconvert_exporter": "python",
   "pygments_lexer": "ipython3",
   "version": "3.8.5"
  }
 },
 "nbformat": 4,
 "nbformat_minor": 4
}
