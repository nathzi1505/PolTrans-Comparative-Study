{
 "cells": [
  {
   "cell_type": "code",
   "execution_count": 1,
   "metadata": {},
   "outputs": [],
   "source": [
    "import pandas as pd\n",
    "import numpy as np\n",
    "\n",
    "import warnings\n",
    "warnings.filterwarnings(\"ignore\")"
   ]
  },
  {
   "cell_type": "code",
   "execution_count": 2,
   "metadata": {},
   "outputs": [],
   "source": [
    "skopje_df = pd.read_csv(\"./Data/Skopje/skopje_pm25.csv\", index_col=0)\n",
    "\n",
    "skopje_df['time'] = pd.to_datetime(skopje_df['time'])\n",
    "skopje_df = skopje_df.set_index(['time'])\n",
    "skopje_df.index.names = ['Date']\n",
    "skopje_df = skopje_df.resample(\"D\").mean()\n",
    "skopje_df = skopje_df[\"2015-01-01\":]\n",
    "skopje_df = skopje_df[[\"Centar\", \"Karpos\"]]"
   ]
  },
  {
   "cell_type": "code",
   "execution_count": 3,
   "metadata": {},
   "outputs": [],
   "source": [
    "def impute(station_df, column=\"PM2.5\", window_length=24):\n",
    "    try:\n",
    "        for idx, value in enumerate(station_df[column].values):\n",
    "            if np.isnan(value):\n",
    "                station_df[column][idx] = station_df[column][idx - window_length]\n",
    "    except:\n",
    "        pass\n",
    "    return station_df"
   ]
  },
  {
   "cell_type": "code",
   "execution_count": 4,
   "metadata": {},
   "outputs": [],
   "source": [
    "stations = skopje_df.columns"
   ]
  },
  {
   "cell_type": "code",
   "execution_count": 5,
   "metadata": {},
   "outputs": [],
   "source": [
    "lat_lng = {\n",
    "    \"Centar\": {\n",
    "        \"latitude\": 41.9954,\n",
    "        \"longitude\": 21.4246,\n",
    "    },\n",
    "    \"Karpos\": {\n",
    "        \"latitude\": 42.0030,\n",
    "        \"longitude\": 21.3978,\n",
    "    },\n",
    "}"
   ]
  },
  {
   "cell_type": "code",
   "execution_count": 6,
   "metadata": {},
   "outputs": [],
   "source": [
    "dataset = []\n",
    "\n",
    "for i, station in enumerate(stations):\n",
    "    df = skopje_df[[station]]\n",
    "    df.columns = ['PM2.5']\n",
    "    df = impute(df, column=\"PM2.5\", window_length=24)\n",
    "    \n",
    "    city = \"Skopje\"\n",
    "    \n",
    "    latitude, longitude = lat_lng[station][\"latitude\"], lat_lng[station][\"longitude\"]\n",
    "    \n",
    "    item = {\n",
    "        \"station_name\": station,\n",
    "        \"station_id\": f\"SK{(i+1):03}\", \n",
    "        \"city\": city,\n",
    "        \"latitude\": latitude,\n",
    "        \"longitude\": longitude,\n",
    "        \"df\": df\n",
    "    }\n",
    "    \n",
    "    dataset.append(item)"
   ]
  },
  {
   "cell_type": "code",
   "execution_count": 7,
   "metadata": {},
   "outputs": [],
   "source": [
    "import pickle\n",
    "\n",
    "pickle.dump(dataset, open(\"./Data/skopje_dataset.pkl\", \"wb\"), protocol=4)"
   ]
  }
 ],
 "metadata": {
  "kernelspec": {
   "display_name": "Python 3",
   "language": "python",
   "name": "python3"
  },
  "language_info": {
   "codemirror_mode": {
    "name": "ipython",
    "version": 3
   },
   "file_extension": ".py",
   "mimetype": "text/x-python",
   "name": "python",
   "nbconvert_exporter": "python",
   "pygments_lexer": "ipython3",
   "version": "3.8.5"
  }
 },
 "nbformat": 4,
 "nbformat_minor": 4
}
