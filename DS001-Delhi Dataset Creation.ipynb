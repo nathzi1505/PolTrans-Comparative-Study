{
 "cells": [
  {
   "cell_type": "code",
   "execution_count": 1,
   "metadata": {},
   "outputs": [],
   "source": [
    "import pandas as pd\n",
    "import numpy as np\n",
    "\n",
    "import warnings\n",
    "warnings.filterwarnings(\"ignore\")"
   ]
  },
  {
   "cell_type": "code",
   "execution_count": 2,
   "metadata": {},
   "outputs": [],
   "source": [
    "india_stations_pm25 = pd.read_pickle(\"./Data/India/india_stations_pm25.pkl\")"
   ]
  },
  {
   "cell_type": "code",
   "execution_count": 3,
   "metadata": {},
   "outputs": [],
   "source": [
    "def impute(station_df, column=\"PM2.5\", window_length=24):\n",
    "    try:\n",
    "        for idx, value in enumerate(station_df[column].values):\n",
    "            if np.isnan(value):\n",
    "                station_df[column][idx] = station_df[column][idx - window_length]\n",
    "    except:\n",
    "        pass\n",
    "    return station_df"
   ]
  },
  {
   "cell_type": "code",
   "execution_count": 4,
   "metadata": {},
   "outputs": [],
   "source": [
    "station_data = []\n",
    "\n",
    "for station_df in india_stations_pm25:\n",
    "    length = station_df.shape[0]\n",
    "    station_df = station_df[\"2018-01-01\":]\n",
    "    if (station_df.isna().sum()['PM2.5']/station_df.shape[0] > 0.3):\n",
    "        continue\n",
    "    station_df = impute(station_df, column=\"PM2.5\", window_length=24)\n",
    "    \n",
    "    if length > 500:    \n",
    "        station_data.append((length, station_df))\n",
    "    \n",
    "station_data.sort(key=lambda x:x[0], reverse=True)"
   ]
  },
  {
   "cell_type": "code",
   "execution_count": 5,
   "metadata": {},
   "outputs": [],
   "source": [
    "# explored_states = []\n",
    "max_length_dfs = []\n",
    "\n",
    "for length, station_df in station_data:\n",
    "    station_code = station_df['StationId'].values[0]\n",
    "    state_code = station_code[:2]\n",
    "#     if state_code not in explored_states:\n",
    "#     explored_states.append(state_code)\n",
    "    max_length_dfs.append((station_code, station_df))"
   ]
  },
  {
   "cell_type": "code",
   "execution_count": 6,
   "metadata": {},
   "outputs": [
    {
     "data": {
      "text/html": [
       "<div>\n",
       "<style scoped>\n",
       "    .dataframe tbody tr th:only-of-type {\n",
       "        vertical-align: middle;\n",
       "    }\n",
       "\n",
       "    .dataframe tbody tr th {\n",
       "        vertical-align: top;\n",
       "    }\n",
       "\n",
       "    .dataframe thead th {\n",
       "        text-align: right;\n",
       "    }\n",
       "</style>\n",
       "<table border=\"1\" class=\"dataframe\">\n",
       "  <thead>\n",
       "    <tr style=\"text-align: right;\">\n",
       "      <th></th>\n",
       "      <th>StationName</th>\n",
       "      <th>StationId</th>\n",
       "      <th>City</th>\n",
       "      <th>Latitude</th>\n",
       "      <th>Longitude</th>\n",
       "    </tr>\n",
       "  </thead>\n",
       "  <tbody>\n",
       "    <tr>\n",
       "      <th>0</th>\n",
       "      <td>Secretariat, Amaravati - APPCB</td>\n",
       "      <td>AP001</td>\n",
       "      <td>Amaravati</td>\n",
       "      <td>16.504561</td>\n",
       "      <td>80.523517</td>\n",
       "    </tr>\n",
       "    <tr>\n",
       "      <th>1</th>\n",
       "      <td>GVM Corporation, Visakhapatnam - APPCB</td>\n",
       "      <td>AP005</td>\n",
       "      <td>Visakhapatnam</td>\n",
       "      <td>17.748887</td>\n",
       "      <td>83.247789</td>\n",
       "    </tr>\n",
       "    <tr>\n",
       "      <th>2</th>\n",
       "      <td>Railway Colony, Guwahati - APCB</td>\n",
       "      <td>AS001</td>\n",
       "      <td>Guwahati</td>\n",
       "      <td>26.179587</td>\n",
       "      <td>91.784315</td>\n",
       "    </tr>\n",
       "    <tr>\n",
       "      <th>3</th>\n",
       "      <td>DRM Office Danapur, Patna - BSPCB</td>\n",
       "      <td>BR005</td>\n",
       "      <td>Patna</td>\n",
       "      <td>25.585624</td>\n",
       "      <td>85.044299</td>\n",
       "    </tr>\n",
       "    <tr>\n",
       "      <th>4</th>\n",
       "      <td>Govt. High School Shikarpur, Patna - BSPCB</td>\n",
       "      <td>BR006</td>\n",
       "      <td>Patna</td>\n",
       "      <td>25.587980</td>\n",
       "      <td>85.094986</td>\n",
       "    </tr>\n",
       "  </tbody>\n",
       "</table>\n",
       "</div>"
      ],
      "text/plain": [
       "                                  StationName StationId           City  \\\n",
       "0              Secretariat, Amaravati - APPCB     AP001      Amaravati   \n",
       "1      GVM Corporation, Visakhapatnam - APPCB     AP005  Visakhapatnam   \n",
       "2             Railway Colony, Guwahati - APCB     AS001       Guwahati   \n",
       "3           DRM Office Danapur, Patna - BSPCB     BR005          Patna   \n",
       "4  Govt. High School Shikarpur, Patna - BSPCB     BR006          Patna   \n",
       "\n",
       "    Latitude  Longitude  \n",
       "0  16.504561  80.523517  \n",
       "1  17.748887  83.247789  \n",
       "2  26.179587  91.784315  \n",
       "3  25.585624  85.044299  \n",
       "4  25.587980  85.094986  "
      ]
     },
     "execution_count": 6,
     "metadata": {},
     "output_type": "execute_result"
    }
   ],
   "source": [
    "india_stations_df = pd.read_csv(\"./Data/India/india_stations-corrected.csv\", index_col=0)\n",
    "india_stations_df.head()"
   ]
  },
  {
   "cell_type": "code",
   "execution_count": 7,
   "metadata": {},
   "outputs": [],
   "source": [
    "dataset = []\n",
    "\n",
    "for station_code, df in max_length_dfs:\n",
    "    details = india_stations_df[india_stations_df['StationId'] == station_code]\n",
    "    station_name, station_id, city, latitude, longitude = details.values[0]\n",
    "    \n",
    "    if (city == \"Delhi\"):\n",
    "        \n",
    "        if station_id == \"DL013\":\n",
    "            continue\n",
    "\n",
    "        item = {\n",
    "            \"station_name\": station_name,\n",
    "            \"station_id\": station_id, \n",
    "            \"city\": city,\n",
    "            \"latitude\": latitude,\n",
    "            \"longitude\": longitude,\n",
    "            \"df\": df[['PM2.5']]\n",
    "        }\n",
    "\n",
    "        dataset.append(item)"
   ]
  },
  {
   "cell_type": "code",
   "execution_count": 9,
   "metadata": {},
   "outputs": [],
   "source": [
    "dataset = dataset[:8]"
   ]
  },
  {
   "cell_type": "code",
   "execution_count": 10,
   "metadata": {},
   "outputs": [],
   "source": [
    "import pickle\n",
    "\n",
    "pickle.dump(dataset, open(\"./Data/delhi_dataset.pkl\", \"wb\"), protocol=4)"
   ]
  }
 ],
 "metadata": {
  "kernelspec": {
   "display_name": "Python 3",
   "language": "python",
   "name": "python3"
  },
  "language_info": {
   "codemirror_mode": {
    "name": "ipython",
    "version": 3
   },
   "file_extension": ".py",
   "mimetype": "text/x-python",
   "name": "python",
   "nbconvert_exporter": "python",
   "pygments_lexer": "ipython3",
   "version": "3.8.5"
  }
 },
 "nbformat": 4,
 "nbformat_minor": 4
}
