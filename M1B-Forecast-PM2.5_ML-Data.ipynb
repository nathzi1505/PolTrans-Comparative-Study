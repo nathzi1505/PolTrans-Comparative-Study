{
 "cells": [
  {
   "cell_type": "code",
   "execution_count": 1,
   "metadata": {},
   "outputs": [],
   "source": [
    "import pickle\n",
    "import pandas as pd\n",
    "\n",
    "from glob import glob\n",
    "\n",
    "import warnings\n",
    "warnings.filterwarnings('ignore')"
   ]
  },
  {
   "cell_type": "code",
   "execution_count": 2,
   "metadata": {},
   "outputs": [],
   "source": [
    "pd.set_option('display.max_rows', None)"
   ]
  },
  {
   "cell_type": "code",
   "execution_count": 3,
   "metadata": {},
   "outputs": [],
   "source": [
    "from sklearn.metrics import mean_squared_log_error, median_absolute_error\n",
    "\n",
    "def result_dataframe(path, dataset_name):\n",
    "\n",
    "    model_directories = glob(path + f\"/{dataset_name}/*/\")\n",
    "\n",
    "    table_dict = {}\n",
    "\n",
    "    for idx in range(len(model_directories)):\n",
    "        directory = model_directories[idx]\n",
    "        model_name = directory.split(\"/\")[-2]\n",
    "        station_pkls = glob(path + f\"/{dataset_name}/\" + model_name + \"/*.pkl\")\n",
    "        \n",
    "        if model_name == 'TSTransformer':\n",
    "            model_name = 'PolTrans'\n",
    "\n",
    "        model_data = {}\n",
    "\n",
    "        for inner_idx in range(len(station_pkls)):\n",
    "            station_data = pickle.load(open(station_pkls[inner_idx], \"rb\"))\n",
    "            station_data['score']['medae'] = median_absolute_error(station_data['test_set'], \n",
    "                                                                   station_data['test_set_predictions'])\n",
    "            model_data[station_data[\"station_id\"]] = station_data[\"score\"]\n",
    "            del model_data[station_data[\"station_id\"]]['r2_score']\n",
    "            \n",
    "        table_dict[model_name] = model_data\n",
    "\n",
    "    reform = {(outerKey, innerKey): values for outerKey, innerDict in table_dict.items() for innerKey, values in innerDict.items()}\n",
    "\n",
    "    result_df = pd.DataFrame(reform).transpose()\n",
    "    \n",
    "    return result_df"
   ]
  },
  {
   "cell_type": "code",
   "execution_count": 4,
   "metadata": {},
   "outputs": [],
   "source": [
    "path = \"./m_ml_models\"\n",
    "dataset_directories = glob(path + f\"/*/\")\n",
    "\n",
    "result_df_list = []\n",
    "\n",
    "for ds_dir in dataset_directories:\n",
    "    dataset_name = ds_dir.split(\"/\")[-2]\n",
    "    result_df = result_dataframe(path, dataset_name)    \n",
    "    result_df_list.append([dataset_name, result_df])"
   ]
  },
  {
   "cell_type": "code",
   "execution_count": 5,
   "metadata": {},
   "outputs": [],
   "source": [
    "path = \"./m_tstrans_models\"\n",
    "dataset_directories = glob(path + f\"/*/\")\n",
    "\n",
    "for idx, ds_dir in enumerate(dataset_directories):\n",
    "    dataset_name = ds_dir.split(\"/\")[-2]\n",
    "    result_df = result_dataframe(path, dataset_name)    \n",
    "    result_df_list[idx][1] = pd.concat([result_df_list[idx][1], result_df], axis=0)"
   ]
  },
  {
   "cell_type": "code",
   "execution_count": 6,
   "metadata": {},
   "outputs": [],
   "source": [
    "result_df_list.sort(key=lambda x: x[0])"
   ]
  },
  {
   "cell_type": "code",
   "execution_count": 7,
   "metadata": {},
   "outputs": [
    {
     "data": {
      "image/png": "[encoded data removed]",
      "text/plain": [
       "<Figure size 864x288 with 2 Axes>"
      ]
     },
     "metadata": {
      "needs_background": "light"
     },
     "output_type": "display_data"
    }
   ],
   "source": [
    "import matplotlib.pyplot as plt\n",
    "import string\n",
    "\n",
    "plt.rcParams[\"font.family\"] = \"Times New Roman\"\n",
    "\n",
    "fig, axs = plt.subplots(ncols=len(result_df_list), figsize=(6*len(result_df_list), 4))\n",
    "\n",
    "for idx in range(len(result_df_list)):\n",
    "    \n",
    "    ax = axs[idx]\n",
    "\n",
    "    df = result_df_list[idx][1].swaplevel(0)[['medae']].reset_index().pivot(index='level_0', columns='level_1')\n",
    "    df.columns = df.columns.droplevel(0)\n",
    "    df.columns.name = \"Models\"\n",
    "    df.index.name = \"Stations\"\n",
    "    \n",
    "    dataset_name = result_df_list[idx][0]\n",
    "    \n",
    "    if dataset_name == 'beijing_pm25': dataset_name = \"Beijing PM2.5\"\n",
    "    elif dataset_name == 'beijing_pm10': dataset_name = \"Beijing PM10\"\n",
    "\n",
    "    df.plot.barh(ax=ax, zorder=2)\n",
    "    ax.grid(ls='-',zorder=1)\n",
    "    ax.set_title(f'{dataset_name}\\nMedAE Performance', fontsize=16)\n",
    "    ax.set_xlabel('MedAE', fontsize=14)\n",
    "    ax.set_ylabel('', fontsize=14)\n",
    "    \n",
    "    if idx == 0:\n",
    "        ax.set_ylabel('Stations', fontsize=14)\n",
    "    \n",
    "    if idx != (len(result_df_list) - 1):\n",
    "        ax.get_legend().remove()\n",
    "        \n",
    "    \n",
    "    ax.text(0.475, -0.25, f\"({string.ascii_lowercase[idx]})\", transform=axs[idx].transAxes, \n",
    "            size=20, weight='bold')\n",
    "    \n",
    "\n",
    "plt.savefig(f\"./paper_figures/m_ml_medae.png\", dpi=300, bbox_inches='tight')   "
   ]
  },
  {
   "cell_type": "code",
   "execution_count": 8,
   "metadata": {},
   "outputs": [],
   "source": [
    "table_df = pd.DataFrame()\n",
    "\n",
    "for idx in range(len(result_df_list)):\n",
    "    dataset_name = result_df_list[idx][0]\n",
    "    \n",
    "    df = result_df_list[idx][1].reset_index()\n",
    "    df = df.drop(['level_1'], axis=1)\n",
    "    df = df.groupby('level_0').mean()\n",
    "    df = df.drop('mean', axis=1)\n",
    "    df.index.name = 'Model'\n",
    "    \n",
    "    if dataset_name == 'beijing_pm25': dataset_name = \"Beijing PM2.5\"\n",
    "    elif dataset_name == 'beijing_pm10': dataset_name = \"Beijing PM10\"\n",
    "    \n",
    "    df['city'] = dataset_name \n",
    "    \n",
    "    df = df.reset_index().set_index(['city', 'Model'])\n",
    "    table_df = pd.concat([table_df, df])"
   ]
  },
  {
   "cell_type": "code",
   "execution_count": 9,
   "metadata": {},
   "outputs": [
    {
     "name": "stdout",
     "output_type": "stream",
     "text": [
      "\\begin{tabular}{llrrr}\n",
      "\\toprule\n",
      "              &     &     mae &    rmse &   medae \\\\\n",
      "city & Model &         &         &         \\\\\n",
      "\\midrule\n",
      "Beijing PM10 & Decision Tree &  61.370 &  87.291 &  43.240 \\\\\n",
      "              & Linear &  48.372 &  67.374 &  36.312 \\\\\n",
      "              & PolTrans &  48.725 &  68.457 &  35.999 \\\\\n",
      "              & Polynomial &  47.474 &  66.626 &  36.055 \\\\\n",
      "              & Random Forest &  49.589 &  70.555 &  37.424 \\\\\n",
      "              & SVR &  47.130 &  69.578 &  32.953 \\\\\n",
      "Beijing PM2.5 & Decision Tree &  56.388 &  81.938 &  37.395 \\\\\n",
      "              & Linear &  44.928 &  61.244 &  34.881 \\\\\n",
      "              & PolTrans &  45.161 &  62.305 &  34.179 \\\\\n",
      "              & Polynomial &  43.586 &  59.532 &  34.757 \\\\\n",
      "              & Random Forest &  44.485 &  61.574 &  32.474 \\\\\n",
      "              & SVR &  42.830 &  61.028 &  30.583 \\\\\n",
      "\\bottomrule\n",
      "\\end{tabular}\n",
      "\n"
     ]
    }
   ],
   "source": [
    "table_df = table_df.round(3)\n",
    "print(table_df.to_latex())"
   ]
  }
 ],
 "metadata": {
  "kernelspec": {
   "display_name": "Python 3",
   "language": "python",
   "name": "python3"
  },
  "language_info": {
   "codemirror_mode": {
    "name": "ipython",
    "version": 3
   },
   "file_extension": ".py",
   "mimetype": "text/x-python",
   "name": "python",
   "nbconvert_exporter": "python",
   "pygments_lexer": "ipython3",
   "version": "3.8.5"
  }
 },
 "nbformat": 4,
 "nbformat_minor": 4
}
