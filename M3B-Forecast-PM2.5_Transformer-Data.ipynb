{
 "cells": [
  {
   "cell_type": "code",
   "execution_count": 1,
   "metadata": {},
   "outputs": [],
   "source": [
    "import pickle\n",
    "import pandas as pd\n",
    "\n",
    "from glob import glob"
   ]
  },
  {
   "cell_type": "code",
   "execution_count": 2,
   "metadata": {},
   "outputs": [],
   "source": [
    "path = \"./m_tstrans_models\""
   ]
  },
  {
   "cell_type": "code",
   "execution_count": 3,
   "metadata": {},
   "outputs": [],
   "source": [
    "pd.set_option('display.max_rows', None)"
   ]
  },
  {
   "cell_type": "code",
   "execution_count": 4,
   "metadata": {},
   "outputs": [],
   "source": [
    "def result_dataframe(dataset_name):\n",
    "\n",
    "    model_directories = glob(path + f\"/{dataset_name}/*/\")\n",
    "\n",
    "    table_dict = {}\n",
    "\n",
    "    for idx in range(len(model_directories)):\n",
    "        directory = model_directories[idx]\n",
    "        model_name = directory.split(\"/\")[-2]\n",
    "        station_pkls = glob(path + f\"/{dataset_name}/\" + model_name + \"/*.pkl\")\n",
    "\n",
    "        model_data = {}\n",
    "\n",
    "        for inner_idx in range(len(station_pkls)):\n",
    "            station_data = pickle.load(open(station_pkls[inner_idx], \"rb\"))\n",
    "            model_data[station_data[\"station_id\"]] = station_data[\"score\"]\n",
    "\n",
    "        table_dict[model_name + \"\"] = model_data\n",
    "\n",
    "    reform = {(outerKey, innerKey): values for outerKey, innerDict in table_dict.items() for innerKey, values in innerDict.items()}\n",
    "\n",
    "    result_df = pd.DataFrame(reform).transpose()\n",
    "    \n",
    "    return result_df"
   ]
  },
  {
   "cell_type": "code",
   "execution_count": 5,
   "metadata": {},
   "outputs": [],
   "source": [
    "dataset_directories = glob(path + f\"/*/\")"
   ]
  },
  {
   "cell_type": "code",
   "execution_count": 6,
   "metadata": {},
   "outputs": [
    {
     "name": "stdout",
     "output_type": "stream",
     "text": [
      "Dataset Name : beijing_pm10\n",
      "--------------------------------------------------\n",
      "                       mae        mean  r2_score       rmse\n",
      "TSTransformer 1  48.725136  104.514328  0.330527  68.456818\n",
      "--------------------------------------------------\n",
      "Dataset Name : beijing_pm25\n",
      "--------------------------------------------------\n",
      "                       mae       mean  r2_score       rmse\n",
      "TSTransformer 1  45.161179  81.273315   0.34635  62.305149\n",
      "--------------------------------------------------\n"
     ]
    }
   ],
   "source": [
    "result_df_list = []\n",
    "\n",
    "for ds_dir in dataset_directories:\n",
    "    dataset_name = ds_dir.split(\"/\")[-2]\n",
    "    result_df = result_dataframe(dataset_name)\n",
    "    print(f\"Dataset Name : {dataset_name}\")\n",
    "    print(\"-\"*50)\n",
    "    print(result_df)\n",
    "    print(\"-\"*50)\n",
    "    \n",
    "    result_df_list.append([dataset_name, result_df])"
   ]
  }
 ],
 "metadata": {
  "kernelspec": {
   "display_name": "Python 3",
   "language": "python",
   "name": "python3"
  },
  "language_info": {
   "codemirror_mode": {
    "name": "ipython",
    "version": 3
   },
   "file_extension": ".py",
   "mimetype": "text/x-python",
   "name": "python",
   "nbconvert_exporter": "python",
   "pygments_lexer": "ipython3",
   "version": "3.8.5"
  }
 },
 "nbformat": 4,
 "nbformat_minor": 4
}
