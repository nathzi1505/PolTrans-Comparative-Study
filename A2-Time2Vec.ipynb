{
 "cells": [
  {
   "cell_type": "code",
   "execution_count": 1,
   "metadata": {},
   "outputs": [],
   "source": [
    "import torch\n",
    "import torch.nn as nn\n",
    "import numpy as np"
   ]
  },
  {
   "cell_type": "code",
   "execution_count": 2,
   "metadata": {},
   "outputs": [],
   "source": [
    "class Time2VecEncoding(nn.Module):\n",
    "    \"\"\"\n",
    "    Implements the Time2Vec Encoding\n",
    "    \n",
    "    Parameters\n",
    "    ---\n",
    "    f               : Periodic activation\n",
    "    input_features  : Size of input\n",
    "    output_features : Size of output \n",
    "    \n",
    "    References\n",
    "    ---\n",
    "    [1] \"Time2Vec: Learning a Vector Representation of Time\" - https://arxiv.org/pdf/1907.05321.pdf\n",
    "    \n",
    "    \"\"\"\n",
    "    \n",
    "    def __init__(self, f, input_timesteps, embedding_size):\n",
    "        super(Time2VecEncoding, self).__init__()\n",
    "        self.f = f\n",
    "        self.input_timesteps = input_timesteps\n",
    "        self.embedding_size = embedding_size \n",
    "        self.omega = nn.parameter.Parameter(torch.randn(input_timesteps, embedding_size))\n",
    "        self.psi = nn.parameter.Parameter(torch.randn(input_timesteps, embedding_size))\n",
    "    \n",
    "    def _get_encoding(self, tau):\n",
    "        v1 = torch.matmul(tau, self.omega[:, 0]) + self.psi[:, 0].reshape(self.input_timesteps, 1)\n",
    "        v2 = self.f(torch.matmul(tau, self.omega[:, 1:]) + self.psi[:, 1:])\n",
    "        return torch.cat([v1, v2], 1)\n",
    "    \n",
    "    def forward(self, tau):\n",
    "        return self._get_encoding(tau)"
   ]
  },
  {
   "cell_type": "code",
   "execution_count": 3,
   "metadata": {},
   "outputs": [],
   "source": [
    "input_timesteps = 10\n",
    "embedding_size = 250\n",
    "f = torch.cos"
   ]
  },
  {
   "cell_type": "code",
   "execution_count": 4,
   "metadata": {},
   "outputs": [],
   "source": [
    "tau = torch.FloatTensor([x for x in range(input_timesteps)])\n",
    "t2v = Time2VecEncoding(f, input_timesteps, embedding_size)\n",
    "\n",
    "result = t2v(tau)"
   ]
  },
  {
   "cell_type": "code",
   "execution_count": 5,
   "metadata": {},
   "outputs": [
    {
     "data": {
      "text/plain": [
       "torch.Size([10, 250])"
      ]
     },
     "execution_count": 5,
     "metadata": {},
     "output_type": "execute_result"
    }
   ],
   "source": [
    "result.shape"
   ]
  }
 ],
 "metadata": {
  "kernelspec": {
   "display_name": "Python 3",
   "language": "python",
   "name": "python3"
  },
  "language_info": {
   "codemirror_mode": {
    "name": "ipython",
    "version": 3
   },
   "file_extension": ".py",
   "mimetype": "text/x-python",
   "name": "python",
   "nbconvert_exporter": "python",
   "pygments_lexer": "ipython3",
   "version": "3.8.5"
  }
 },
 "nbformat": 4,
 "nbformat_minor": 4
}
