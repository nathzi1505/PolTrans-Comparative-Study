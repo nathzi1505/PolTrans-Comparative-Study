{
 "cells": [
  {
   "cell_type": "code",
   "execution_count": 1,
   "metadata": {},
   "outputs": [],
   "source": [
    "import pandas as pd\n",
    "import numpy as np"
   ]
  },
  {
   "cell_type": "code",
   "execution_count": 2,
   "metadata": {},
   "outputs": [],
   "source": [
    "df = pd.read_csv(\"./Data/UCIAirQuality/AirQualityUCI.csv\")"
   ]
  },
  {
   "cell_type": "code",
   "execution_count": 3,
   "metadata": {},
   "outputs": [],
   "source": [
    "df['date'] = df.apply(lambda x: x['Date'] + ' ' + x['Time'], axis=1)\n",
    "df = df.drop(['Date'], axis=1)\n",
    "df = df.drop(['Time'], axis=1)"
   ]
  },
  {
   "cell_type": "code",
   "execution_count": 4,
   "metadata": {},
   "outputs": [],
   "source": [
    "df['date'] = pd.to_datetime(df['date'], format='%Y-%m-%d %H:%M:%S')\n",
    "df = df.sort_values(['date'])\n",
    "df = df.set_index(['date'])\n",
    "df.index.freq = 'H'"
   ]
  },
  {
   "cell_type": "code",
   "execution_count": 5,
   "metadata": {},
   "outputs": [],
   "source": [
    "df = df.resample('D').mean().round(2)"
   ]
  },
  {
   "cell_type": "code",
   "execution_count": 6,
   "metadata": {},
   "outputs": [
    {
     "data": {
      "text/html": [
       "<div>\n",
       "<style scoped>\n",
       "    .dataframe tbody tr th:only-of-type {\n",
       "        vertical-align: middle;\n",
       "    }\n",
       "\n",
       "    .dataframe tbody tr th {\n",
       "        vertical-align: top;\n",
       "    }\n",
       "\n",
       "    .dataframe thead th {\n",
       "        text-align: right;\n",
       "    }\n",
       "</style>\n",
       "<table border=\"1\" class=\"dataframe\">\n",
       "  <thead>\n",
       "    <tr style=\"text-align: right;\">\n",
       "      <th></th>\n",
       "      <th>CO(GT)</th>\n",
       "      <th>PT08.S1(CO)</th>\n",
       "      <th>NMHC(GT)</th>\n",
       "      <th>C6H6(GT)</th>\n",
       "      <th>PT08.S2(NMHC)</th>\n",
       "      <th>NOx(GT)</th>\n",
       "      <th>PT08.S3(NOx)</th>\n",
       "      <th>NO2(GT)</th>\n",
       "      <th>PT08.S4(NO2)</th>\n",
       "      <th>PT08.S5(O3)</th>\n",
       "      <th>T</th>\n",
       "      <th>RH</th>\n",
       "      <th>AH</th>\n",
       "    </tr>\n",
       "    <tr>\n",
       "      <th>date</th>\n",
       "      <th></th>\n",
       "      <th></th>\n",
       "      <th></th>\n",
       "      <th></th>\n",
       "      <th></th>\n",
       "      <th></th>\n",
       "      <th></th>\n",
       "      <th></th>\n",
       "      <th></th>\n",
       "      <th></th>\n",
       "      <th></th>\n",
       "      <th></th>\n",
       "      <th></th>\n",
       "    </tr>\n",
       "  </thead>\n",
       "  <tbody>\n",
       "    <tr>\n",
       "      <th>2004-03-10</th>\n",
       "      <td>1.97</td>\n",
       "      <td>1316.50</td>\n",
       "      <td>86.50</td>\n",
       "      <td>8.46</td>\n",
       "      <td>912.25</td>\n",
       "      <td>132.00</td>\n",
       "      <td>1167.25</td>\n",
       "      <td>108.83</td>\n",
       "      <td>1545.33</td>\n",
       "      <td>1096.04</td>\n",
       "      <td>12.02</td>\n",
       "      <td>54.88</td>\n",
       "      <td>0.77</td>\n",
       "    </tr>\n",
       "    <tr>\n",
       "      <th>2004-03-11</th>\n",
       "      <td>-6.19</td>\n",
       "      <td>1244.06</td>\n",
       "      <td>104.50</td>\n",
       "      <td>7.99</td>\n",
       "      <td>851.80</td>\n",
       "      <td>130.04</td>\n",
       "      <td>1277.19</td>\n",
       "      <td>87.38</td>\n",
       "      <td>1522.70</td>\n",
       "      <td>885.03</td>\n",
       "      <td>9.83</td>\n",
       "      <td>64.07</td>\n",
       "      <td>0.78</td>\n",
       "    </tr>\n",
       "    <tr>\n",
       "      <th>2004-03-12</th>\n",
       "      <td>-14.10</td>\n",
       "      <td>1281.56</td>\n",
       "      <td>141.50</td>\n",
       "      <td>12.13</td>\n",
       "      <td>1008.23</td>\n",
       "      <td>142.58</td>\n",
       "      <td>1101.72</td>\n",
       "      <td>89.92</td>\n",
       "      <td>1627.22</td>\n",
       "      <td>1084.22</td>\n",
       "      <td>11.29</td>\n",
       "      <td>51.11</td>\n",
       "      <td>0.66</td>\n",
       "    </tr>\n",
       "    <tr>\n",
       "      <th>2004-03-13</th>\n",
       "      <td>-5.75</td>\n",
       "      <td>1330.56</td>\n",
       "      <td>139.25</td>\n",
       "      <td>10.92</td>\n",
       "      <td>992.82</td>\n",
       "      <td>168.42</td>\n",
       "      <td>993.16</td>\n",
       "      <td>105.58</td>\n",
       "      <td>1595.62</td>\n",
       "      <td>1245.78</td>\n",
       "      <td>12.87</td>\n",
       "      <td>51.53</td>\n",
       "      <td>0.73</td>\n",
       "    </tr>\n",
       "    <tr>\n",
       "      <th>2004-03-14</th>\n",
       "      <td>-5.97</td>\n",
       "      <td>1360.93</td>\n",
       "      <td>116.96</td>\n",
       "      <td>9.63</td>\n",
       "      <td>943.85</td>\n",
       "      <td>132.17</td>\n",
       "      <td>1001.10</td>\n",
       "      <td>97.46</td>\n",
       "      <td>1602.19</td>\n",
       "      <td>1234.18</td>\n",
       "      <td>16.02</td>\n",
       "      <td>48.84</td>\n",
       "      <td>0.85</td>\n",
       "    </tr>\n",
       "  </tbody>\n",
       "</table>\n",
       "</div>"
      ],
      "text/plain": [
       "            CO(GT)  PT08.S1(CO)  NMHC(GT)  C6H6(GT)  PT08.S2(NMHC)  NOx(GT)  \\\n",
       "date                                                                          \n",
       "2004-03-10    1.97      1316.50     86.50      8.46         912.25   132.00   \n",
       "2004-03-11   -6.19      1244.06    104.50      7.99         851.80   130.04   \n",
       "2004-03-12  -14.10      1281.56    141.50     12.13        1008.23   142.58   \n",
       "2004-03-13   -5.75      1330.56    139.25     10.92         992.82   168.42   \n",
       "2004-03-14   -5.97      1360.93    116.96      9.63         943.85   132.17   \n",
       "\n",
       "            PT08.S3(NOx)  NO2(GT)  PT08.S4(NO2)  PT08.S5(O3)      T     RH  \\\n",
       "date                                                                         \n",
       "2004-03-10       1167.25   108.83       1545.33      1096.04  12.02  54.88   \n",
       "2004-03-11       1277.19    87.38       1522.70       885.03   9.83  64.07   \n",
       "2004-03-12       1101.72    89.92       1627.22      1084.22  11.29  51.11   \n",
       "2004-03-13        993.16   105.58       1595.62      1245.78  12.87  51.53   \n",
       "2004-03-14       1001.10    97.46       1602.19      1234.18  16.02  48.84   \n",
       "\n",
       "              AH  \n",
       "date              \n",
       "2004-03-10  0.77  \n",
       "2004-03-11  0.78  \n",
       "2004-03-12  0.66  \n",
       "2004-03-13  0.73  \n",
       "2004-03-14  0.85  "
      ]
     },
     "execution_count": 6,
     "metadata": {},
     "output_type": "execute_result"
    }
   ],
   "source": [
    "df.head()"
   ]
  },
  {
   "cell_type": "code",
   "execution_count": 7,
   "metadata": {},
   "outputs": [],
   "source": [
    "cols = df.columns\n",
    "for j in cols:\n",
    "    for i in range(0, len(df)):\n",
    "        if df[j][i] == -200:\n",
    "            df[j][i] = df[j][i-1]"
   ]
  },
  {
   "cell_type": "code",
   "execution_count": 8,
   "metadata": {},
   "outputs": [],
   "source": [
    "df.to_pickle(\"./Data/air_quality_uci_dataset.pkl\", protocol=4)"
   ]
  }
 ],
 "metadata": {
  "kernelspec": {
   "display_name": "Python 3",
   "language": "python",
   "name": "python3"
  },
  "language_info": {
   "codemirror_mode": {
    "name": "ipython",
    "version": 3
   },
   "file_extension": ".py",
   "mimetype": "text/x-python",
   "name": "python",
   "nbconvert_exporter": "python",
   "pygments_lexer": "ipython3",
   "version": "3.8.5"
  }
 },
 "nbformat": 4,
 "nbformat_minor": 4
}
