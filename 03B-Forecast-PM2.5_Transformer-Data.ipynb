{
 "cells": [
  {
   "cell_type": "code",
   "execution_count": 1,
   "metadata": {},
   "outputs": [],
   "source": [
    "import pickle\n",
    "import pandas as pd\n",
    "\n",
    "from glob import glob"
   ]
  },
  {
   "cell_type": "code",
   "execution_count": 2,
   "metadata": {},
   "outputs": [],
   "source": [
    "path = \"./tstrans_models\""
   ]
  },
  {
   "cell_type": "code",
   "execution_count": 3,
   "metadata": {},
   "outputs": [],
   "source": [
    "pd.set_option('display.max_rows', None)"
   ]
  },
  {
   "cell_type": "code",
   "execution_count": 4,
   "metadata": {},
   "outputs": [],
   "source": [
    "def result_dataframe(dataset_name):\n",
    "\n",
    "    model_directories = glob(path + f\"/{dataset_name}/*/\")\n",
    "\n",
    "    table_dict = {}\n",
    "\n",
    "    for idx in range(len(model_directories)):\n",
    "        directory = model_directories[idx]\n",
    "        model_name = directory.split(\"/\")[-2]\n",
    "        station_pkls = glob(path + f\"/{dataset_name}/\" + model_name + \"/*_pm25.pkl\")\n",
    "\n",
    "        model_data = {}\n",
    "\n",
    "        for inner_idx in range(len(station_pkls)):\n",
    "            station_data = pickle.load(open(station_pkls[inner_idx], \"rb\"))\n",
    "            model_data[station_data[\"station_id\"]] = station_data[\"score\"]\n",
    "\n",
    "        table_dict[model_name + \"\"] = model_data\n",
    "\n",
    "    reform = {(outerKey, innerKey): values for outerKey, innerDict in table_dict.items() for innerKey, values in innerDict.items()}\n",
    "\n",
    "    result_df = pd.DataFrame(reform).transpose()\n",
    "    \n",
    "    return result_df"
   ]
  },
  {
   "cell_type": "code",
   "execution_count": 5,
   "metadata": {},
   "outputs": [],
   "source": [
    "dataset_directories = glob(path + f\"/*/\")"
   ]
  },
  {
   "cell_type": "code",
   "execution_count": 6,
   "metadata": {},
   "outputs": [
    {
     "name": "stdout",
     "output_type": "stream",
     "text": [
      "Dataset Name : Ulaanbaatar\n",
      "--------------------------------------------------\n",
      "                     r2_score        mae        rmse       mean\n",
      "TSTransformer UB003  0.611884  25.329202   37.561752  62.757429\n",
      "              UB012  0.610640  50.905758  104.476650  98.772233\n",
      "              UB004  0.522976  26.268475   43.314927  64.046559\n",
      "              UB002  0.380962  23.324410   37.358062  50.358537\n",
      "              UB001  0.534859  41.710062   62.770846  87.467868\n",
      "              UB005  0.439177  43.662257   81.521745  79.860484\n",
      "--------------------------------------------------\n",
      "Dataset Name : Seoul\n",
      "--------------------------------------------------\n",
      "                     r2_score        mae       rmse       mean\n",
      "TSTransformer SL115  0.491923   8.731579  12.965205  24.625515\n",
      "              SL112  0.378911   9.570471  12.974621  22.771177\n",
      "              SL102  0.451342   7.794981  11.200899  21.641418\n",
      "              SL119 -0.002498  21.300169  46.313320  36.403638\n",
      "              SL101  0.387892   8.226003  11.605869  22.313870\n",
      "              SL118  0.360692   8.973777  14.150605  24.460913\n",
      "              SL114  0.449058   8.316920  12.286394  24.209721\n",
      "              SL111  0.002360  21.929990  59.282399  30.042666\n",
      "--------------------------------------------------\n",
      "Dataset Name : Delhi\n",
      "--------------------------------------------------\n",
      "                     r2_score        mae       rmse        mean\n",
      "TSTransformer DL031  0.694260  27.643991  43.249769   92.041218\n",
      "              DL019  0.664800  31.382342  48.394928  103.100812\n",
      "              DL007  0.657798  34.548933  50.753157  109.909483\n",
      "              DL033  0.733560  27.339436  40.457756   93.508930\n",
      "              DL028  0.638630  37.562822  56.249709  118.749225\n",
      "              DL021  0.676304  26.658518  40.201569  114.273321\n",
      "              DL002  0.671325  41.529675  59.746808  135.138672\n",
      "              DL014  0.591098  38.249634  53.108002  125.003579\n",
      "--------------------------------------------------\n",
      "Dataset Name : Skopje\n",
      "--------------------------------------------------\n",
      "                     r2_score        mae       rmse       mean\n",
      "TSTransformer SK002  0.361005  17.901023  26.131321  40.201853\n",
      "              SK001  0.319199  10.969077  18.120878  30.529459\n",
      "--------------------------------------------------\n"
     ]
    }
   ],
   "source": [
    "result_df_list = []\n",
    "\n",
    "for ds_dir in dataset_directories:\n",
    "    dataset_name = ds_dir.split(\"/\")[-2]\n",
    "    result_df = result_dataframe(dataset_name)\n",
    "    print(f\"Dataset Name : {dataset_name.capitalize()}\")\n",
    "    print(\"-\"*50)\n",
    "    print(result_df)\n",
    "    print(\"-\"*50)\n",
    "    \n",
    "    result_df_list.append([dataset_name, result_df])"
   ]
  }
 ],
 "metadata": {
  "kernelspec": {
   "display_name": "Python 3",
   "language": "python",
   "name": "python3"
  },
  "language_info": {
   "codemirror_mode": {
    "name": "ipython",
    "version": 3
   },
   "file_extension": ".py",
   "mimetype": "text/x-python",
   "name": "python",
   "nbconvert_exporter": "python",
   "pygments_lexer": "ipython3",
   "version": "3.8.5"
  }
 },
 "nbformat": 4,
 "nbformat_minor": 4
}
