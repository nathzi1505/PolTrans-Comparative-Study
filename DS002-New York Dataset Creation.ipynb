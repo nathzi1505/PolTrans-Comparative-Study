{
 "cells": [
  {
   "cell_type": "code",
   "execution_count": 1,
   "metadata": {},
   "outputs": [],
   "source": [
    "import pandas as pd\n",
    "import numpy as np\n",
    "\n",
    "import warnings\n",
    "warnings.filterwarnings(\"ignore\")"
   ]
  },
  {
   "cell_type": "code",
   "execution_count": 2,
   "metadata": {},
   "outputs": [],
   "source": [
    "new_york_pm25_df    = pd.read_pickle(\"./Data/NYC/new_york_pm25_temporal.pkl\")\n",
    "new_york_spatial_df = pd.read_pickle(\"./Data/NYC/new_york_pm25_spatial.pkl\")"
   ]
  },
  {
   "cell_type": "code",
   "execution_count": 3,
   "metadata": {},
   "outputs": [],
   "source": [
    "dataset = []\n",
    "\n",
    "for station_id in new_york_spatial_df.index.values:\n",
    "    \n",
    "    nbd_name, latitude, longitude = new_york_spatial_df.loc[station_id].values\n",
    "    nbd_name = nbd_name.title()\n",
    "    \n",
    "    city = \"New York City\"\n",
    "    df = new_york_pm25_df[[station_id]]\n",
    "    df.columns = [\"PM2.5\"]\n",
    "    \n",
    "    item = {\n",
    "        \"station_name\": nbd_name,\n",
    "        \"station_id\": station_id, \n",
    "        \"city\": city,\n",
    "        \"latitude\": latitude,\n",
    "        \"longitude\": longitude,\n",
    "        \"df\": df\n",
    "    }\n",
    "    \n",
    "    dataset.append(item)    "
   ]
  },
  {
   "cell_type": "code",
   "execution_count": 4,
   "metadata": {},
   "outputs": [],
   "source": [
    "dataset = dataset[:8]"
   ]
  },
  {
   "cell_type": "code",
   "execution_count": 5,
   "metadata": {},
   "outputs": [],
   "source": [
    "import pickle\n",
    "\n",
    "pickle.dump(dataset, open(\"./Data/nyc_dataset.pkl\", \"wb\"), protocol=4)"
   ]
  }
 ],
 "metadata": {
  "kernelspec": {
   "display_name": "Python 3",
   "language": "python",
   "name": "python3"
  },
  "language_info": {
   "codemirror_mode": {
    "name": "ipython",
    "version": 3
   },
   "file_extension": ".py",
   "mimetype": "text/x-python",
   "name": "python",
   "nbconvert_exporter": "python",
   "pygments_lexer": "ipython3",
   "version": "3.8.5"
  }
 },
 "nbformat": 4,
 "nbformat_minor": 4
}
